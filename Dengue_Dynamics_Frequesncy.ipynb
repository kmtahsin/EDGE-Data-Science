{
  "nbformat": 4,
  "nbformat_minor": 0,
  "metadata": {
    "colab": {
      "provenance": []
    },
    "kernelspec": {
      "name": "python3",
      "display_name": "Python 3"
    },
    "language_info": {
      "name": "python"
    }
  },
  "cells": [
    {
      "cell_type": "code",
      "execution_count": 1,
      "metadata": {
        "colab": {
          "base_uri": "https://localhost:8080/"
        },
        "id": "iMqfVzNbpw6E",
        "outputId": "a5f1195d-0a52-47a4-b24a-12dee0c26cc7"
      },
      "outputs": [
        {
          "output_type": "stream",
          "name": "stdout",
          "text": [
            "Mounted at /content/drive\n"
          ]
        }
      ],
      "source": [
        "# prompt: mount google drive\n",
        "\n",
        "from google.colab import drive\n",
        "drive.mount('/content/drive')\n"
      ]
    },
    {
      "cell_type": "code",
      "source": [
        "import pandas as pd\n",
        "\n",
        "# Assuming the file path is correct and the file exists\n",
        "file_path = \"/content/drive/MyDrive/01. University/02. Research/Sir/Completed/Dengu/Dengue Dynamica Data.xlsx\"\n",
        "\n",
        "try:\n",
        "  df = pd.read_excel(file_path)\n",
        "  print(df.head()) # Display the first few rows of the DataFrame\n",
        "except FileNotFoundError:\n",
        "  print(f\"Error: File not found at {file_path}\")\n",
        "except Exception as e:\n",
        "  print(f\"An error occurred: {e}\")"
      ],
      "metadata": {
        "colab": {
          "base_uri": "https://localhost:8080/"
        },
        "id": "Z-2cZEDepy7z",
        "outputId": "23c26c3e-9f1d-4935-dc14-d5f921092252"
      },
      "execution_count": 4,
      "outputs": [
        {
          "output_type": "stream",
          "name": "stdout",
          "text": [
            "              Age     Sex    Division   Living Place   Education  \\\n",
            "0  18 to 40 years  Female  Chattogram          Rural  Illiterate   \n",
            "1  18 to 40 years    Male       Dhaka          Urban   Secondary   \n",
            "2  18 to 40 years    Male       Dhaka     Semi Urban      Higher   \n",
            "3  18 to 40 years    Male  Chattogram          Urban     Primary   \n",
            "4  18 to 40 years    Male       Dhaka          Urban  Illiterate   \n",
            "\n",
            "  Occupation Status Financial Status Familiar with Dengue fever  \\\n",
            "0         Housewife             Poor                         No   \n",
            "1           Service     Middle class                        Yes   \n",
            "2           Service     Middle class                        Yes   \n",
            "3            Others             Poor                        Yes   \n",
            "4            Others     Middle class                         No   \n",
            "\n",
            "  Responsible for Dengue fever Most common time for mosquito bites  \\\n",
            "0                   Don’t know                          Don’t know   \n",
            "1                   Don’t know                          Don’t know   \n",
            "2              Mosquito's bite                                 Day   \n",
            "3              Mosquito's bite                          Don’t know   \n",
            "4                   Don’t know                          Don’t know   \n",
            "\n",
            "  Dengue is a contagious disease  \\\n",
            "0                             No   \n",
            "1                             No   \n",
            "2                             No   \n",
            "3                             No   \n",
            "4                             No   \n",
            "\n",
            "                  Signs and symptoms of Dengue fever Can detect Aedes  \\\n",
            "0                       High fever, Acute body aches               No   \n",
            "1  High fever, Acute body aches, Diarrhea and vom...               No   \n",
            "2  High fever, Acute body aches, Diarrhea and vom...               No   \n",
            "3  High fever, Acute body aches, Diarrhea and vom...               No   \n",
            "4                       High fever, Acute body aches               No   \n",
            "\n",
            "  Dengue requirs hospitalization Tests are needed to diagonise Dengue fever  \\\n",
            "0                            Yes                                         No   \n",
            "1                            Yes                                        Yes   \n",
            "2                            Yes                                         No   \n",
            "3                            Yes                                         No   \n",
            "4                            Yes                                         No   \n",
            "\n",
            "  Protections from mosquito bites  \n",
            "0   Use Spray/Coil/Cream, Use Net  \n",
            "1            Use Spray/Coil/Cream  \n",
            "2   Use Spray/Coil/Cream, Use Net  \n",
            "3            Use Spray/Coil/Cream  \n",
            "4                         Use Net  \n"
          ]
        }
      ]
    },
    {
      "cell_type": "code",
      "source": [
        "# prompt: get the column names\n",
        "\n",
        "import pandas as pd\n",
        "\n",
        "\n",
        "\n",
        "# Assuming the file path is correct and the file exists\n",
        "file_path = \"/content/drive/MyDrive/01. University/02. Research/Sir/Completed/Dengu/Dengue Dynamica Data.xlsx\"\n",
        "\n",
        "try:\n",
        "  df = pd.read_excel(file_path)\n",
        "  # Get the column names\n",
        "  column_names = df.columns.tolist()\n",
        "  print(column_names)\n",
        "except FileNotFoundError:\n",
        "  print(f\"Error: File not found at {file_path}\")\n",
        "except Exception as e:\n",
        "  print(f\"An error occurred: {e}\")"
      ],
      "metadata": {
        "colab": {
          "base_uri": "https://localhost:8080/"
        },
        "id": "AXb7g9WruzBs",
        "outputId": "daa57b52-b1c2-4239-f11c-ac3c25bf67c3"
      },
      "execution_count": 6,
      "outputs": [
        {
          "output_type": "stream",
          "name": "stdout",
          "text": [
            "['  Age', 'Sex', '  Division', '  Living Place', 'Education', 'Occupation Status', 'Financial Status', 'Familiar with Dengue fever', 'Responsible for Dengue fever', 'Most common time for mosquito bites', 'Dengue is a contagious disease', 'Signs and symptoms of Dengue fever', 'Can detect Aedes', 'Dengue requirs hospitalization', 'Tests are needed to diagonise Dengue fever', 'Protections from mosquito bites']\n"
          ]
        }
      ]
    },
    {
      "cell_type": "code",
      "source": [
        "# prompt: make a frequency table in percentage based on the column names and generate in a tabular format with border lines and export a .csv file containing a books based on column name and include all the books in the .csv file and export to \"/content/drive/MyDrive/01. University/02. Research/Sir/Completed/Dengu\"\n",
        "\n",
        "import pandas as pd\n",
        "\n",
        "\n",
        "# Assuming the file path is correct and the file exists\n",
        "file_path = \"/content/drive/MyDrive/01. University/02. Research/Sir/Completed/Dengu/Dengue Dynamica Data.xlsx\"\n",
        "\n",
        "try:\n",
        "    df = pd.read_excel(file_path)\n",
        "\n",
        "    # Calculate frequency table in percentage for each column\n",
        "    frequency_tables = {}\n",
        "    for column in df.columns:\n",
        "        frequency_tables[column] = df[column].value_counts(normalize=True) * 100\n",
        "\n",
        "    # Generate tabular output with borders\n",
        "    from IPython.display import HTML, display\n",
        "\n",
        "    def display_table(df):\n",
        "        display(HTML(df.to_html(index=True)))\n",
        "\n",
        "    for column_name, frequency_table in frequency_tables.items():\n",
        "        print(f\"Frequency Table for '{column_name}':\")\n",
        "        display_table(frequency_table.to_frame(name=\"Percentage\"))\n",
        "        print(\"-\" * 50)  # Separator line\n",
        "\n",
        "    # Export data to a CSV file.\n",
        "    export_file_path = \"/content/drive/MyDrive/01. University/02. Research/Sir/Completed/Dengu/books_data.csv\"\n",
        "    df.to_csv(export_file_path, index=False)  # index=False prevents writing row indices to the file\n",
        "    print(f\"Data exported to {export_file_path}\")\n",
        "\n",
        "except FileNotFoundError:\n",
        "    print(f\"Error: File not found at {file_path}\")\n",
        "except Exception as e:\n",
        "    print(f\"An error occurred: {e}\")"
      ],
      "metadata": {
        "colab": {
          "base_uri": "https://localhost:8080/",
          "height": 1000
        },
        "id": "R9cd1QiiuqWp",
        "outputId": "f6ad4bca-4fb0-4d53-8afa-2c9a31de89a6"
      },
      "execution_count": 14,
      "outputs": [
        {
          "output_type": "stream",
          "name": "stdout",
          "text": [
            "Frequency Table for '  Age':\n"
          ]
        },
        {
          "output_type": "display_data",
          "data": {
            "text/plain": [
              "<IPython.core.display.HTML object>"
            ],
            "text/html": [
              "<table border=\"1\" class=\"dataframe\">\n",
              "  <thead>\n",
              "    <tr style=\"text-align: right;\">\n",
              "      <th></th>\n",
              "      <th>Percentage</th>\n",
              "    </tr>\n",
              "    <tr>\n",
              "      <th>Age</th>\n",
              "      <th></th>\n",
              "    </tr>\n",
              "  </thead>\n",
              "  <tbody>\n",
              "    <tr>\n",
              "      <th>18 to 40 years</th>\n",
              "      <td>71.673820</td>\n",
              "    </tr>\n",
              "    <tr>\n",
              "      <th>Below 18 years</th>\n",
              "      <td>13.018598</td>\n",
              "    </tr>\n",
              "    <tr>\n",
              "      <th>40 to 60 years</th>\n",
              "      <td>12.589413</td>\n",
              "    </tr>\n",
              "    <tr>\n",
              "      <th>Above 60 years</th>\n",
              "      <td>2.718169</td>\n",
              "    </tr>\n",
              "  </tbody>\n",
              "</table>"
            ]
          },
          "metadata": {}
        },
        {
          "output_type": "stream",
          "name": "stdout",
          "text": [
            "--------------------------------------------------\n",
            "Frequency Table for 'Sex':\n"
          ]
        },
        {
          "output_type": "display_data",
          "data": {
            "text/plain": [
              "<IPython.core.display.HTML object>"
            ],
            "text/html": [
              "<table border=\"1\" class=\"dataframe\">\n",
              "  <thead>\n",
              "    <tr style=\"text-align: right;\">\n",
              "      <th></th>\n",
              "      <th>Percentage</th>\n",
              "    </tr>\n",
              "    <tr>\n",
              "      <th>Sex</th>\n",
              "      <th></th>\n",
              "    </tr>\n",
              "  </thead>\n",
              "  <tbody>\n",
              "    <tr>\n",
              "      <th>Male</th>\n",
              "      <td>58.082976</td>\n",
              "    </tr>\n",
              "    <tr>\n",
              "      <th>Female</th>\n",
              "      <td>41.917024</td>\n",
              "    </tr>\n",
              "  </tbody>\n",
              "</table>"
            ]
          },
          "metadata": {}
        },
        {
          "output_type": "stream",
          "name": "stdout",
          "text": [
            "--------------------------------------------------\n",
            "Frequency Table for '  Division':\n"
          ]
        },
        {
          "output_type": "display_data",
          "data": {
            "text/plain": [
              "<IPython.core.display.HTML object>"
            ],
            "text/html": [
              "<table border=\"1\" class=\"dataframe\">\n",
              "  <thead>\n",
              "    <tr style=\"text-align: right;\">\n",
              "      <th></th>\n",
              "      <th>Percentage</th>\n",
              "    </tr>\n",
              "    <tr>\n",
              "      <th>Division</th>\n",
              "      <th></th>\n",
              "    </tr>\n",
              "  </thead>\n",
              "  <tbody>\n",
              "    <tr>\n",
              "      <th>Dhaka</th>\n",
              "      <td>43.633763</td>\n",
              "    </tr>\n",
              "    <tr>\n",
              "      <th>Chattogram</th>\n",
              "      <td>11.587983</td>\n",
              "    </tr>\n",
              "    <tr>\n",
              "      <th>Dhaka</th>\n",
              "      <td>10.157368</td>\n",
              "    </tr>\n",
              "    <tr>\n",
              "      <th>Rajshahi</th>\n",
              "      <td>9.155937</td>\n",
              "    </tr>\n",
              "    <tr>\n",
              "      <th>Khulna</th>\n",
              "      <td>6.151645</td>\n",
              "    </tr>\n",
              "    <tr>\n",
              "      <th>Chittagong</th>\n",
              "      <td>5.293276</td>\n",
              "    </tr>\n",
              "    <tr>\n",
              "      <th>Barishal</th>\n",
              "      <td>5.150215</td>\n",
              "    </tr>\n",
              "    <tr>\n",
              "      <th>Chittagong</th>\n",
              "      <td>2.575107</td>\n",
              "    </tr>\n",
              "    <tr>\n",
              "      <th>Rangpur</th>\n",
              "      <td>2.432046</td>\n",
              "    </tr>\n",
              "    <tr>\n",
              "      <th>Sylhet</th>\n",
              "      <td>1.001431</td>\n",
              "    </tr>\n",
              "    <tr>\n",
              "      <th>Mymensingh</th>\n",
              "      <td>0.858369</td>\n",
              "    </tr>\n",
              "    <tr>\n",
              "      <th>Rangpur</th>\n",
              "      <td>0.429185</td>\n",
              "    </tr>\n",
              "    <tr>\n",
              "      <th>Chuwadanga</th>\n",
              "      <td>0.143062</td>\n",
              "    </tr>\n",
              "    <tr>\n",
              "      <th>Chittagong</th>\n",
              "      <td>0.143062</td>\n",
              "    </tr>\n",
              "    <tr>\n",
              "      <th>Cumilla</th>\n",
              "      <td>0.143062</td>\n",
              "    </tr>\n",
              "    <tr>\n",
              "      <th>Cumilla</th>\n",
              "      <td>0.143062</td>\n",
              "    </tr>\n",
              "    <tr>\n",
              "      <th>Chitagong</th>\n",
              "      <td>0.143062</td>\n",
              "    </tr>\n",
              "    <tr>\n",
              "      <th>rangpur</th>\n",
              "      <td>0.143062</td>\n",
              "    </tr>\n",
              "    <tr>\n",
              "      <th>Bhola</th>\n",
              "      <td>0.143062</td>\n",
              "    </tr>\n",
              "    <tr>\n",
              "      <th>Chandpur</th>\n",
              "      <td>0.143062</td>\n",
              "    </tr>\n",
              "    <tr>\n",
              "      <th>Rongpur</th>\n",
              "      <td>0.143062</td>\n",
              "    </tr>\n",
              "    <tr>\n",
              "      <th>Khulna</th>\n",
              "      <td>0.143062</td>\n",
              "    </tr>\n",
              "    <tr>\n",
              "      <th>Barishal</th>\n",
              "      <td>0.143062</td>\n",
              "    </tr>\n",
              "  </tbody>\n",
              "</table>"
            ]
          },
          "metadata": {}
        },
        {
          "output_type": "stream",
          "name": "stdout",
          "text": [
            "--------------------------------------------------\n",
            "Frequency Table for '  Living Place':\n"
          ]
        },
        {
          "output_type": "display_data",
          "data": {
            "text/plain": [
              "<IPython.core.display.HTML object>"
            ],
            "text/html": [
              "<table border=\"1\" class=\"dataframe\">\n",
              "  <thead>\n",
              "    <tr style=\"text-align: right;\">\n",
              "      <th></th>\n",
              "      <th>Percentage</th>\n",
              "    </tr>\n",
              "    <tr>\n",
              "      <th>Living Place</th>\n",
              "      <th></th>\n",
              "    </tr>\n",
              "  </thead>\n",
              "  <tbody>\n",
              "    <tr>\n",
              "      <th>Urban</th>\n",
              "      <td>59.799714</td>\n",
              "    </tr>\n",
              "    <tr>\n",
              "      <th>Semi Urban</th>\n",
              "      <td>21.173104</td>\n",
              "    </tr>\n",
              "    <tr>\n",
              "      <th>Rural</th>\n",
              "      <td>19.027182</td>\n",
              "    </tr>\n",
              "  </tbody>\n",
              "</table>"
            ]
          },
          "metadata": {}
        },
        {
          "output_type": "stream",
          "name": "stdout",
          "text": [
            "--------------------------------------------------\n",
            "Frequency Table for 'Education':\n"
          ]
        },
        {
          "output_type": "display_data",
          "data": {
            "text/plain": [
              "<IPython.core.display.HTML object>"
            ],
            "text/html": [
              "<table border=\"1\" class=\"dataframe\">\n",
              "  <thead>\n",
              "    <tr style=\"text-align: right;\">\n",
              "      <th></th>\n",
              "      <th>Percentage</th>\n",
              "    </tr>\n",
              "    <tr>\n",
              "      <th>Education</th>\n",
              "      <th></th>\n",
              "    </tr>\n",
              "  </thead>\n",
              "  <tbody>\n",
              "    <tr>\n",
              "      <th>Higher</th>\n",
              "      <td>55.078684</td>\n",
              "    </tr>\n",
              "    <tr>\n",
              "      <th>Secondary</th>\n",
              "      <td>18.454936</td>\n",
              "    </tr>\n",
              "    <tr>\n",
              "      <th>Primary</th>\n",
              "      <td>17.310443</td>\n",
              "    </tr>\n",
              "    <tr>\n",
              "      <th>Illiterate</th>\n",
              "      <td>9.155937</td>\n",
              "    </tr>\n",
              "  </tbody>\n",
              "</table>"
            ]
          },
          "metadata": {}
        },
        {
          "output_type": "stream",
          "name": "stdout",
          "text": [
            "--------------------------------------------------\n",
            "Frequency Table for 'Occupation Status':\n"
          ]
        },
        {
          "output_type": "display_data",
          "data": {
            "text/plain": [
              "<IPython.core.display.HTML object>"
            ],
            "text/html": [
              "<table border=\"1\" class=\"dataframe\">\n",
              "  <thead>\n",
              "    <tr style=\"text-align: right;\">\n",
              "      <th></th>\n",
              "      <th>Percentage</th>\n",
              "    </tr>\n",
              "    <tr>\n",
              "      <th>Occupation Status</th>\n",
              "      <th></th>\n",
              "    </tr>\n",
              "  </thead>\n",
              "  <tbody>\n",
              "    <tr>\n",
              "      <th>Student</th>\n",
              "      <td>36.194564</td>\n",
              "    </tr>\n",
              "    <tr>\n",
              "      <th>Service</th>\n",
              "      <td>26.037196</td>\n",
              "    </tr>\n",
              "    <tr>\n",
              "      <th>Others</th>\n",
              "      <td>19.599428</td>\n",
              "    </tr>\n",
              "    <tr>\n",
              "      <th>Housewife</th>\n",
              "      <td>18.168813</td>\n",
              "    </tr>\n",
              "  </tbody>\n",
              "</table>"
            ]
          },
          "metadata": {}
        },
        {
          "output_type": "stream",
          "name": "stdout",
          "text": [
            "--------------------------------------------------\n",
            "Frequency Table for 'Financial Status':\n"
          ]
        },
        {
          "output_type": "display_data",
          "data": {
            "text/plain": [
              "<IPython.core.display.HTML object>"
            ],
            "text/html": [
              "<table border=\"1\" class=\"dataframe\">\n",
              "  <thead>\n",
              "    <tr style=\"text-align: right;\">\n",
              "      <th></th>\n",
              "      <th>Percentage</th>\n",
              "    </tr>\n",
              "    <tr>\n",
              "      <th>Financial Status</th>\n",
              "      <th></th>\n",
              "    </tr>\n",
              "  </thead>\n",
              "  <tbody>\n",
              "    <tr>\n",
              "      <th>Middle class</th>\n",
              "      <td>65.665236</td>\n",
              "    </tr>\n",
              "    <tr>\n",
              "      <th>Rich</th>\n",
              "      <td>17.739628</td>\n",
              "    </tr>\n",
              "    <tr>\n",
              "      <th>Poor</th>\n",
              "      <td>16.595136</td>\n",
              "    </tr>\n",
              "  </tbody>\n",
              "</table>"
            ]
          },
          "metadata": {}
        },
        {
          "output_type": "stream",
          "name": "stdout",
          "text": [
            "--------------------------------------------------\n",
            "Frequency Table for 'Familiar with Dengue fever':\n"
          ]
        },
        {
          "output_type": "display_data",
          "data": {
            "text/plain": [
              "<IPython.core.display.HTML object>"
            ],
            "text/html": [
              "<table border=\"1\" class=\"dataframe\">\n",
              "  <thead>\n",
              "    <tr style=\"text-align: right;\">\n",
              "      <th></th>\n",
              "      <th>Percentage</th>\n",
              "    </tr>\n",
              "    <tr>\n",
              "      <th>Familiar with Dengue fever</th>\n",
              "      <th></th>\n",
              "    </tr>\n",
              "  </thead>\n",
              "  <tbody>\n",
              "    <tr>\n",
              "      <th>Yes</th>\n",
              "      <td>92.41774</td>\n",
              "    </tr>\n",
              "    <tr>\n",
              "      <th>No</th>\n",
              "      <td>7.58226</td>\n",
              "    </tr>\n",
              "  </tbody>\n",
              "</table>"
            ]
          },
          "metadata": {}
        },
        {
          "output_type": "stream",
          "name": "stdout",
          "text": [
            "--------------------------------------------------\n",
            "Frequency Table for 'Responsible for Dengue fever':\n"
          ]
        },
        {
          "output_type": "display_data",
          "data": {
            "text/plain": [
              "<IPython.core.display.HTML object>"
            ],
            "text/html": [
              "<table border=\"1\" class=\"dataframe\">\n",
              "  <thead>\n",
              "    <tr style=\"text-align: right;\">\n",
              "      <th></th>\n",
              "      <th>Percentage</th>\n",
              "    </tr>\n",
              "    <tr>\n",
              "      <th>Responsible for Dengue fever</th>\n",
              "      <th></th>\n",
              "    </tr>\n",
              "  </thead>\n",
              "  <tbody>\n",
              "    <tr>\n",
              "      <th>Mosquito's bite</th>\n",
              "      <td>86.981402</td>\n",
              "    </tr>\n",
              "    <tr>\n",
              "      <th>Don’t know</th>\n",
              "      <td>10.586552</td>\n",
              "    </tr>\n",
              "    <tr>\n",
              "      <th>Others</th>\n",
              "      <td>2.432046</td>\n",
              "    </tr>\n",
              "  </tbody>\n",
              "</table>"
            ]
          },
          "metadata": {}
        },
        {
          "output_type": "stream",
          "name": "stdout",
          "text": [
            "--------------------------------------------------\n",
            "Frequency Table for 'Most common time for mosquito bites':\n"
          ]
        },
        {
          "output_type": "display_data",
          "data": {
            "text/plain": [
              "<IPython.core.display.HTML object>"
            ],
            "text/html": [
              "<table border=\"1\" class=\"dataframe\">\n",
              "  <thead>\n",
              "    <tr style=\"text-align: right;\">\n",
              "      <th></th>\n",
              "      <th>Percentage</th>\n",
              "    </tr>\n",
              "    <tr>\n",
              "      <th>Most common time for mosquito bites</th>\n",
              "      <th></th>\n",
              "    </tr>\n",
              "  </thead>\n",
              "  <tbody>\n",
              "    <tr>\n",
              "      <th>Day</th>\n",
              "      <td>71.959943</td>\n",
              "    </tr>\n",
              "    <tr>\n",
              "      <th>Don’t know</th>\n",
              "      <td>22.031474</td>\n",
              "    </tr>\n",
              "    <tr>\n",
              "      <th>Night</th>\n",
              "      <td>6.008584</td>\n",
              "    </tr>\n",
              "  </tbody>\n",
              "</table>"
            ]
          },
          "metadata": {}
        },
        {
          "output_type": "stream",
          "name": "stdout",
          "text": [
            "--------------------------------------------------\n",
            "Frequency Table for 'Dengue is a contagious disease':\n"
          ]
        },
        {
          "output_type": "display_data",
          "data": {
            "text/plain": [
              "<IPython.core.display.HTML object>"
            ],
            "text/html": [
              "<table border=\"1\" class=\"dataframe\">\n",
              "  <thead>\n",
              "    <tr style=\"text-align: right;\">\n",
              "      <th></th>\n",
              "      <th>Percentage</th>\n",
              "    </tr>\n",
              "    <tr>\n",
              "      <th>Dengue is a contagious disease</th>\n",
              "      <th></th>\n",
              "    </tr>\n",
              "  </thead>\n",
              "  <tbody>\n",
              "    <tr>\n",
              "      <th>No</th>\n",
              "      <td>81.688126</td>\n",
              "    </tr>\n",
              "    <tr>\n",
              "      <th>Yes</th>\n",
              "      <td>18.311874</td>\n",
              "    </tr>\n",
              "  </tbody>\n",
              "</table>"
            ]
          },
          "metadata": {}
        },
        {
          "output_type": "stream",
          "name": "stdout",
          "text": [
            "--------------------------------------------------\n",
            "Frequency Table for 'Signs and symptoms of Dengue fever':\n"
          ]
        },
        {
          "output_type": "display_data",
          "data": {
            "text/plain": [
              "<IPython.core.display.HTML object>"
            ],
            "text/html": [
              "<table border=\"1\" class=\"dataframe\">\n",
              "  <thead>\n",
              "    <tr style=\"text-align: right;\">\n",
              "      <th></th>\n",
              "      <th>Percentage</th>\n",
              "    </tr>\n",
              "    <tr>\n",
              "      <th>Signs and symptoms of Dengue fever</th>\n",
              "      <th></th>\n",
              "    </tr>\n",
              "  </thead>\n",
              "  <tbody>\n",
              "    <tr>\n",
              "      <th>High fever</th>\n",
              "      <td>30.615165</td>\n",
              "    </tr>\n",
              "    <tr>\n",
              "      <th>Others</th>\n",
              "      <td>19.742489</td>\n",
              "    </tr>\n",
              "    <tr>\n",
              "      <th>High fever, Acute body aches, Diarrhea and vomiting, Others</th>\n",
              "      <td>11.301860</td>\n",
              "    </tr>\n",
              "    <tr>\n",
              "      <th>Acute body aches</th>\n",
              "      <td>9.442060</td>\n",
              "    </tr>\n",
              "    <tr>\n",
              "      <th>High fever, Diarrhea and vomiting, Others</th>\n",
              "      <td>8.869814</td>\n",
              "    </tr>\n",
              "    <tr>\n",
              "      <th>High fever, Acute body aches, Diarrhea and vomiting</th>\n",
              "      <td>8.440629</td>\n",
              "    </tr>\n",
              "    <tr>\n",
              "      <th>High fever, Diarrhea and vomiting</th>\n",
              "      <td>5.007153</td>\n",
              "    </tr>\n",
              "    <tr>\n",
              "      <th>High fever, Acute body aches</th>\n",
              "      <td>4.291845</td>\n",
              "    </tr>\n",
              "    <tr>\n",
              "      <th>High fever, Acute body aches, Others</th>\n",
              "      <td>1.001431</td>\n",
              "    </tr>\n",
              "    <tr>\n",
              "      <th>Diarrhea and vomiting</th>\n",
              "      <td>0.715308</td>\n",
              "    </tr>\n",
              "    <tr>\n",
              "      <th>High fever, Others</th>\n",
              "      <td>0.429185</td>\n",
              "    </tr>\n",
              "    <tr>\n",
              "      <th>Acute body aches, Diarrhea and vomiting</th>\n",
              "      <td>0.143062</td>\n",
              "    </tr>\n",
              "  </tbody>\n",
              "</table>"
            ]
          },
          "metadata": {}
        },
        {
          "output_type": "stream",
          "name": "stdout",
          "text": [
            "--------------------------------------------------\n",
            "Frequency Table for 'Can detect Aedes':\n"
          ]
        },
        {
          "output_type": "display_data",
          "data": {
            "text/plain": [
              "<IPython.core.display.HTML object>"
            ],
            "text/html": [
              "<table border=\"1\" class=\"dataframe\">\n",
              "  <thead>\n",
              "    <tr style=\"text-align: right;\">\n",
              "      <th></th>\n",
              "      <th>Percentage</th>\n",
              "    </tr>\n",
              "    <tr>\n",
              "      <th>Can detect Aedes</th>\n",
              "      <th></th>\n",
              "    </tr>\n",
              "  </thead>\n",
              "  <tbody>\n",
              "    <tr>\n",
              "      <th>Yes</th>\n",
              "      <td>64.091559</td>\n",
              "    </tr>\n",
              "    <tr>\n",
              "      <th>No</th>\n",
              "      <td>35.908441</td>\n",
              "    </tr>\n",
              "  </tbody>\n",
              "</table>"
            ]
          },
          "metadata": {}
        },
        {
          "output_type": "stream",
          "name": "stdout",
          "text": [
            "--------------------------------------------------\n",
            "Frequency Table for 'Dengue requirs hospitalization':\n"
          ]
        },
        {
          "output_type": "display_data",
          "data": {
            "text/plain": [
              "<IPython.core.display.HTML object>"
            ],
            "text/html": [
              "<table border=\"1\" class=\"dataframe\">\n",
              "  <thead>\n",
              "    <tr style=\"text-align: right;\">\n",
              "      <th></th>\n",
              "      <th>Percentage</th>\n",
              "    </tr>\n",
              "    <tr>\n",
              "      <th>Dengue requirs hospitalization</th>\n",
              "      <th></th>\n",
              "    </tr>\n",
              "  </thead>\n",
              "  <tbody>\n",
              "    <tr>\n",
              "      <th>Yes</th>\n",
              "      <td>82.546495</td>\n",
              "    </tr>\n",
              "    <tr>\n",
              "      <th>No</th>\n",
              "      <td>17.453505</td>\n",
              "    </tr>\n",
              "  </tbody>\n",
              "</table>"
            ]
          },
          "metadata": {}
        },
        {
          "output_type": "stream",
          "name": "stdout",
          "text": [
            "--------------------------------------------------\n",
            "Frequency Table for 'Tests are needed to diagonise Dengue fever':\n"
          ]
        },
        {
          "output_type": "display_data",
          "data": {
            "text/plain": [
              "<IPython.core.display.HTML object>"
            ],
            "text/html": [
              "<table border=\"1\" class=\"dataframe\">\n",
              "  <thead>\n",
              "    <tr style=\"text-align: right;\">\n",
              "      <th></th>\n",
              "      <th>Percentage</th>\n",
              "    </tr>\n",
              "    <tr>\n",
              "      <th>Tests are needed to diagonise Dengue fever</th>\n",
              "      <th></th>\n",
              "    </tr>\n",
              "  </thead>\n",
              "  <tbody>\n",
              "    <tr>\n",
              "      <th>Yes</th>\n",
              "      <td>57.796853</td>\n",
              "    </tr>\n",
              "    <tr>\n",
              "      <th>No</th>\n",
              "      <td>42.203147</td>\n",
              "    </tr>\n",
              "  </tbody>\n",
              "</table>"
            ]
          },
          "metadata": {}
        },
        {
          "output_type": "stream",
          "name": "stdout",
          "text": [
            "--------------------------------------------------\n",
            "Frequency Table for 'Protections from mosquito bites':\n"
          ]
        },
        {
          "output_type": "display_data",
          "data": {
            "text/plain": [
              "<IPython.core.display.HTML object>"
            ],
            "text/html": [
              "<table border=\"1\" class=\"dataframe\">\n",
              "  <thead>\n",
              "    <tr style=\"text-align: right;\">\n",
              "      <th></th>\n",
              "      <th>Percentage</th>\n",
              "    </tr>\n",
              "    <tr>\n",
              "      <th>Protections from mosquito bites</th>\n",
              "      <th></th>\n",
              "    </tr>\n",
              "  </thead>\n",
              "  <tbody>\n",
              "    <tr>\n",
              "      <th>Use Spray/Coil/Cream</th>\n",
              "      <td>35.479256</td>\n",
              "    </tr>\n",
              "    <tr>\n",
              "      <th>Use Spray/Coil/Cream, Use Net</th>\n",
              "      <td>32.331903</td>\n",
              "    </tr>\n",
              "    <tr>\n",
              "      <th>Use Net</th>\n",
              "      <td>22.603720</td>\n",
              "    </tr>\n",
              "    <tr>\n",
              "      <th>Use Spray/Coil/Cream, Use Net, Do nothing</th>\n",
              "      <td>5.293276</td>\n",
              "    </tr>\n",
              "    <tr>\n",
              "      <th>Do nothing</th>\n",
              "      <td>3.576538</td>\n",
              "    </tr>\n",
              "    <tr>\n",
              "      <th>Use Net, Do nothing</th>\n",
              "      <td>0.429185</td>\n",
              "    </tr>\n",
              "    <tr>\n",
              "      <th>Use Net,</th>\n",
              "      <td>0.143062</td>\n",
              "    </tr>\n",
              "    <tr>\n",
              "      <th>Use Net</th>\n",
              "      <td>0.143062</td>\n",
              "    </tr>\n",
              "  </tbody>\n",
              "</table>"
            ]
          },
          "metadata": {}
        },
        {
          "output_type": "stream",
          "name": "stdout",
          "text": [
            "--------------------------------------------------\n",
            "Data exported to /content/drive/MyDrive/01. University/02. Research/Sir/Completed/Dengu/books_data.csv\n"
          ]
        }
      ]
    }
  ]
}